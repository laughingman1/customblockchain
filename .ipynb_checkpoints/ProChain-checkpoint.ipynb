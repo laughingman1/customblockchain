{
 "cells": [
  {
   "cell_type": "code",
   "execution_count": 64,
   "metadata": {
    "collapsed": true
   },
   "outputs": [],
   "source": [
    "import hashlib"
   ]
  },
  {
   "cell_type": "code",
   "execution_count": 65,
   "metadata": {
    "collapsed": true
   },
   "outputs": [],
   "source": [
    "import datetime"
   ]
  },
  {
   "cell_type": "code",
   "execution_count": 66,
   "metadata": {
    "collapsed": true
   },
   "outputs": [],
   "source": [
    "class Block:\n",
    "    def __init__(self,index,timestamp,data,previous_hash):\n",
    "        self.index = index\n",
    "        self.timestamp = timestamp\n",
    "        self.data = data\n",
    "        self.previous_hash = previous_hash\n",
    "        self.hash = self.hash_block()\n",
    "\n",
    "    def hash_block(self):\n",
    "        return hashlib.sha512((str(self.index) +\n",
    "                  str(self.timestamp) +\n",
    "                  str(self.data) +\n",
    "                  str(self.previous_hash)).encode('utf-8')).hexdigest()\n",
    "        #return sha.hexdigest()\n",
    "\n",
    "#return hashlib.sha256(str(msg).encode('utf-8')).hexdigest()"
   ]
  },
  {
   "cell_type": "code",
   "execution_count": 67,
   "metadata": {
    "collapsed": true
   },
   "outputs": [],
   "source": [
    "def createGenesisBlock():\n",
    "    timestamp1 = datetime.date.today()\n",
    "    data1 = ('initialize new blockchain')\n",
    "    return Block(0,timestamp1,\n",
    "                 {\"proofOfWork\": 9,\"transactions\":[]},\n",
    "                 '0')"
   ]
  },
  {
   "cell_type": "code",
   "execution_count": 68,
   "metadata": {
    "collapsed": true
   },
   "outputs": [],
   "source": [
    "def proofOfWorkAlgo(lastProof):\n",
    "    print('lastProof being passed = ',lastProof)\n",
    "    incrementor = lastProof+1\n",
    "    while not(incrementor % 9 == 0 and incrementor % lastProof == 0):\n",
    "        incrementor+=1\n",
    "    return incrementor"
   ]
  },
  {
   "cell_type": "code",
   "execution_count": 69,
   "metadata": {
    "collapsed": true
   },
   "outputs": [],
   "source": [
    "def nextBlock(previousBlock,lastProof):\n",
    "    nextIndex=previousBlock.index+1\n",
    "\n",
    "    nextData=({\"proofOfWork\":proofOfWorkAlgo(lastProof),\"info\": \"current block is \"+str(BlockToAdd.index)})\n",
    "\n",
    "    nextTime=datetime.datetime.now()\n",
    "    nextHash=previousBlock.hash\n",
    "    return Block(nextIndex,nextTime,nextData,nextHash)"
   ]
  },
  {
   "cell_type": "code",
   "execution_count": 70,
   "metadata": {
    "collapsed": true
   },
   "outputs": [],
   "source": [
    "blockchain = [createGenesisBlock()]\n",
    "previous_block = blockchain[0]"
   ]
  },
  {
   "cell_type": "code",
   "execution_count": 71,
   "metadata": {
    "collapsed": true
   },
   "outputs": [],
   "source": [
    "data = ({'proofOfWork':1})"
   ]
  },
  {
   "cell_type": "code",
   "execution_count": 72,
   "metadata": {},
   "outputs": [
    {
     "data": {
      "text/plain": [
       "1"
      ]
     },
     "execution_count": 72,
     "metadata": {},
     "output_type": "execute_result"
    }
   ],
   "source": [
    "data['proofOfWork']"
   ]
  },
  {
   "cell_type": "code",
   "execution_count": 73,
   "metadata": {},
   "outputs": [
    {
     "name": "stdout",
     "output_type": "stream",
     "text": [
      "lastProof being passed =  1\n"
     ]
    },
    {
     "data": {
      "text/plain": [
       "9"
      ]
     },
     "execution_count": 73,
     "metadata": {},
     "output_type": "execute_result"
    }
   ],
   "source": [
    "touput = proofOfWorkAlgo(data['proofOfWork'])\n",
    "touput"
   ]
  },
  {
   "cell_type": "code",
   "execution_count": 74,
   "metadata": {
    "scrolled": true
   },
   "outputs": [
    {
     "name": "stdout",
     "output_type": "stream",
     "text": [
      "lastProof being passed =  1\n",
      "lastproofdata is:  9\n",
      "Block #1 has been added\n",
      "Hash #ec35d22e41a500ff22a3a304f4bc107ad5e2416d952eaf581fd6daab5cf4f47dd47e7b87738cdee77f44c97fbf75c8318650b98001c7ca3b6b126c000746d06c\n",
      "lastProof being passed =  9\n",
      "lastproofdata is:  18\n",
      "Block #2 has been added\n",
      "Hash #8efb8c6052ffd895b64882ac1bc8146104ba78375ab185eaa7f4dac3a2726005847c3ad168b349761895cadc99f14407f391e43cf9d543cdfcd172a385de7ddf\n",
      "lastProof being passed =  18\n",
      "lastproofdata is:  36\n",
      "Block #3 has been added\n",
      "Hash #25650acf4fa3192bdc5a09433da1a3fa398d507468accc024c676f42dacd39bbb238c033b7f18f5532e94ab84ba5f6dc0ebe22d143679ee777ad9fb2b1d2593b\n",
      "lastProof being passed =  36\n",
      "lastproofdata is:  72\n",
      "Block #4 has been added\n",
      "Hash #e56fe8d640938db89d3becb9c12c38de8e54c7b372e6bd7e322db6d4a1d36fb39a35638df3b4637ef91361778a684073b5535ed79320fa9dfa2e10477e81f026\n",
      "lastProof being passed =  72\n",
      "lastproofdata is:  144\n",
      "Block #5 has been added\n",
      "Hash #4fa064e6a1403f97ce5ab3a1cfa24408ad74ac3950af99d007763a3c6fc36f40635fd63d9c33b1fb69e55bcf516bc1608567da62838dadc124e4e6a839b59bdf\n",
      "lastProof being passed =  144\n",
      "lastproofdata is:  288\n",
      "Block #6 has been added\n",
      "Hash #d88f375316ff48b6848b05c7c614cdfd4b51fcc9142ef2c16529286f0eb9f7b20016f92e38e5c611979b5548f2d7a8b6d733f6869d89554f4202bd2a1453e788\n",
      "lastProof being passed =  288\n",
      "lastproofdata is:  576\n",
      "Block #7 has been added\n",
      "Hash #6d282ab5de1e58a527dd33e62613d296ba8ab44d44b63432792247a1f79a8d4c705365073d13dfa6b47e04ab7bfb0d667b087921be9fd7a873eb8b8ea70ea07c\n",
      "lastProof being passed =  576\n",
      "lastproofdata is:  1152\n",
      "Block #8 has been added\n",
      "Hash #c2e73c1cfd578238e339b98c9bb561d4982c5a9d21a54c72896da67fb0be9885708a9f089dbd4f63e357e10aec58d7f070dcf697f29bfe9aa6a166cd60b5aa10\n",
      "lastProof being passed =  1152\n",
      "lastproofdata is:  2304\n",
      "Block #9 has been added\n",
      "Hash #f482ebd8d6950dd0f0de1b273f3da0f95fd899bce2e3bcd7159098ca9ce170e01257c74b59ef8f87c0c6fdf9d89c11ca007351fd55128f7eaddac15fa806e8aa\n",
      "lastProof being passed =  2304\n",
      "lastproofdata is:  4608\n",
      "Block #10 has been added\n",
      "Hash #a7f6ff2f9767e13c021d48eea99fa94ba6182d985a84091a18834a8f1393f7c1cac85e7105be672660db79c8ca83b1547e56ea9472e9caa5bef74c90d322d50d\n",
      "lastProof being passed =  4608\n",
      "lastproofdata is:  9216\n",
      "Block #11 has been added\n",
      "Hash #790362bf09b49c3d38e893860bc1c208dd134eba936922b57c4c2d5e4d5261e3e16735e8f017bd8e9655a7519dfe87403cd523e4eb23f3463d67fe8d13750105\n",
      "lastProof being passed =  9216\n",
      "lastproofdata is:  18432\n",
      "Block #12 has been added\n",
      "Hash #7bf6505938fa64e71d3879d677e97710e0575f9518bc30dcb8aca0db788ab466f6c210a47311e9d5c5c796f341933532348a1e15556a6231db26cc269e7a6cb6\n",
      "lastProof being passed =  18432\n",
      "lastproofdata is:  36864\n",
      "Block #13 has been added\n",
      "Hash #3484408386343cd78ce950c888f5a1e369749ed9585386fdb9d82fe62dd08375e55ecf6917d21e3ef6cc9584f7ae60c2ffbac7dc9af57a790e84822773176b7c\n",
      "lastProof being passed =  36864\n",
      "lastproofdata is:  73728\n",
      "Block #14 has been added\n",
      "Hash #a1ab6b31a429bba14da0f10742ced83024942799806c968812c18ba4f9637d4fbccd077913b9d5dbbc4d58932ee62db0f8f42ff30ed3f0797d390fd13bb4d975\n",
      "lastProof being passed =  73728\n",
      "lastproofdata is:  147456\n",
      "Block #15 has been added\n",
      "Hash #26f36411b5eaeebf65f1257aa6bc1b1f1dedc7f0d2c61ed5689c11aac74bc81c9d9ed37d0a01b8e5677012c1d0d1a1958c53e052e8a330ffd175955db26701c4\n",
      "lastProof being passed =  147456\n",
      "lastproofdata is:  294912\n",
      "Block #16 has been added\n",
      "Hash #a9807d2907bda37309c762bb1db61b4cc20616c84bb95327a3bee07a183963467f9c4a5f5ec1b27037f6902dc4c7f1dcd5c1708715851dbd157796041ea352ff\n",
      "lastProof being passed =  294912\n",
      "lastproofdata is:  589824\n",
      "Block #17 has been added\n",
      "Hash #26a80ad8135f45f619dfe7b81af3e37fa8cd865afee905d880d24401c983a91f2976bd0e513c2666d577178373945240d5d0cd2efef17cb7d46a8a306cb0ea0f\n",
      "lastProof being passed =  589824\n",
      "lastproofdata is:  1179648\n",
      "Block #18 has been added\n",
      "Hash #3a8e0921b69b91e3fa113a7196dd3fe5aed02302317971b55b23a33bd61461f83a257b898f55f49c8378b44b55203f2d8f5710b61fa8815ae72bd09301d78ec9\n",
      "lastProof being passed =  1179648\n",
      "lastproofdata is:  2359296\n",
      "Block #19 has been added\n",
      "Hash #b117ba0c629c67285f290b3941eb791d70a952584d81d71ca77c6e65d0d0c2b198dc96c0c435d8f20e7fd1cdfb64ab70ccfb8beb0d912603a24c07b148b02919\n",
      "lastProof being passed =  2359296\n",
      "lastproofdata is:  4718592\n",
      "Block #20 has been added\n",
      "Hash #6e0b9024e28d00f7d959d9ae49d3a81b17e9c9375b9e0fbebc889fefec1c0882c89cf2f4e3d45bcdbe115fcb3e7ed39dc5c1c54a7b863ff3366edd1277041562\n",
      "lastProof being passed =  4718592\n",
      "lastproofdata is:  9437184\n",
      "Block #21 has been added\n",
      "Hash #fe0190d2c5b8dbf2a848bdcec8309bc5ce7b836eca011483d6e899ded0314963e24e1f46a8239bfa8980a99382bd7acdccc93e9219dfe1dcc9621a735ec57797\n",
      "lastProof being passed =  9437184\n",
      "lastproofdata is:  18874368\n",
      "Block #22 has been added\n",
      "Hash #95df6f8437deb2670c9f1a8daa59d1c7d0498f2737b7f4d17eba76e85a702eabb26da9d50ccf39723c3d7d2d2da366e413e28512307e4b4d14cef56f8b8cec67\n",
      "lastProof being passed =  18874368\n",
      "lastproofdata is:  37748736\n",
      "Block #23 has been added\n",
      "Hash #1cde588f869d7894cac4b3b4f7271353ce819c06bbf46e293bf5fc90a173c77b7462dc2c90595863ae1b4361ba2dfe3eb07d9b01e92f7f379ab40057baf5c7a2\n"
     ]
    }
   ],
   "source": [
    "add_blocks = 23\n",
    "#data = ({'proofOfWork':1})\n",
    "lastProofData=1\n",
    "\n",
    "for i in range(add_blocks):\n",
    "    BlockToAdd = nextBlock(previous_block,lastProofData)\n",
    "    blockchain.append(BlockToAdd)\n",
    "    previous_block = BlockToAdd\n",
    "    lastProofData = BlockToAdd.data[\"proofOfWork\"]\n",
    "    print('lastproofdata is: ',BlockToAdd.data[\"proofOfWork\"])\n",
    "\n",
    "    print (\"Block #{} has been added\".format(previous_block.index))\n",
    "    print (\"Hash #{}\".format(previous_block.hash))"
   ]
  },
  {
   "cell_type": "code",
   "execution_count": 75,
   "metadata": {},
   "outputs": [
    {
     "data": {
      "text/plain": [
       "{'info': 'current block is 23', 'proofOfWork': 9}"
      ]
     },
     "execution_count": 75,
     "metadata": {},
     "output_type": "execute_result"
    }
   ],
   "source": [
    "blockchain[1].data"
   ]
  },
  {
   "cell_type": "code",
   "execution_count": 76,
   "metadata": {
    "collapsed": true
   },
   "outputs": [],
   "source": [
    "def cAlgorithm(blockchain,blockIndexToModify,newData):\n",
    "    originalChain = []\n",
    "    for x in range(0,blockIndexToModify-1):\n",
    "        originalChain.append(blockchain[x])\n",
    "    siphonData = []\n",
    "    siphonTime = []\n",
    "    for x in range(blockIndexToModify,len(blockchain)):\n",
    "        siphonData.append(blockchain[x].data)\n",
    "        siphonTime.append(blockchain[x].timestamp)\n",
    "\n",
    "    newChain = []\n",
    "    newChain.append(nextBlock(blockchain[blockIndexToModify-1],siphonData[0]['proofOfWork']))\n",
    "    newChain[0].timestamp = blockchain[blockIndexToModify-1].timestamp\n",
    "    previousBlock = newChain[0]\n",
    "    newChainLength = len(blockchain) - (blockIndexToModify)\n",
    "    for x in range(0,newChainLength):\n",
    "        newChain.append(nextBlock(previousBlock,siphonData[x]['proofOfWork']))\n",
    "        newChain[x+1].timestamp = siphonTime[x]\n",
    "        newChain[x+1].data['info'] = siphonData[x]['info']\n",
    "        previousBlock = newChain[x]\n",
    "\n",
    "    cChain = originalChain+newChain\n",
    "    return cChain"
   ]
  },
  {
   "cell_type": "code",
   "execution_count": 77,
   "metadata": {},
   "outputs": [
    {
     "name": "stdout",
     "output_type": "stream",
     "text": [
      "lastProof being passed =  589824\n",
      "lastProof being passed =  589824\n",
      "lastProof being passed =  1179648\n",
      "lastProof being passed =  2359296\n",
      "lastProof being passed =  4718592\n",
      "lastProof being passed =  9437184\n",
      "lastProof being passed =  18874368\n",
      "lastProof being passed =  37748736\n"
     ]
    }
   ],
   "source": [
    "newData = ('10 million USD to x Account')\n",
    "cChain = cAlgorithm(blockchain,17,newData)"
   ]
  },
  {
   "cell_type": "code",
   "execution_count": 83,
   "metadata": {},
   "outputs": [
    {
     "data": {
      "text/plain": [
       "{'info': 'current block is 22', 'proofOfWork': 75497472}"
      ]
     },
     "execution_count": 83,
     "metadata": {},
     "output_type": "execute_result"
    }
   ],
   "source": [
    "cChain[23].data"
   ]
  },
  {
   "cell_type": "code",
   "execution_count": 319,
   "metadata": {
    "collapsed": true
   },
   "outputs": [],
   "source": [
    "newerData = ({\"proofOfWork\": \"4802840u028420380912318\",\"transactions\": [1,2,3]})\n",
    "cChain = cAlgorithm(blockchain,18,newerData)"
   ]
  },
  {
   "cell_type": "code",
   "execution_count": 321,
   "metadata": {},
   "outputs": [
    {
     "data": {
      "text/plain": [
       "'4802840u028420380912318'"
      ]
     },
     "execution_count": 321,
     "metadata": {},
     "output_type": "execute_result"
    }
   ],
   "source": [
    "cChain[17].data['proofOfWork']"
   ]
  },
  {
   "cell_type": "code",
   "execution_count": 286,
   "metadata": {},
   "outputs": [
    {
     "data": {
      "text/plain": [
       "'\\nprintC = []\\nfor x in range(len(cChain)):\\n    printC.append([cChain[x].timestamp,blockchain[x].timestamp])\\n    print (printC[x])\\n'"
      ]
     },
     "execution_count": 286,
     "metadata": {},
     "output_type": "execute_result"
    }
   ],
   "source": [
    "#cChain timestamp verification\n",
    "'''\n",
    "printC = []\n",
    "for x in range(len(cChain)):\n",
    "    printC.append([cChain[x].timestamp,blockchain[x].timestamp])\n",
    "    print (printC[x])\n",
    "'''"
   ]
  },
  {
   "cell_type": "code",
   "execution_count": null,
   "metadata": {},
   "outputs": [
    {
     "name": "stderr",
     "output_type": "stream",
     "text": [
      " * Running on http://127.0.0.1:5000/ (Press CTRL+C to quit)\n",
      "127.0.0.1 - - [28/Nov/2017 18:50:33] \"POST /transaction HTTP/1.1\" 200 -\n"
     ]
    },
    {
     "name": "stdout",
     "output_type": "stream",
     "text": [
      "new transaction\n",
      "From: akjflw\n",
      "To : fjlakdj\n",
      "Amount: 3\n"
     ]
    },
    {
     "name": "stderr",
     "output_type": "stream",
     "text": [
      "127.0.0.1 - - [28/Nov/2017 18:50:51] \"GET /mining HTTP/1.1\" 200 -\n",
      "127.0.0.1 - - [28/Nov/2017 18:57:57] \"GET /mining HTTP/1.1\" 200 -\n"
     ]
    }
   ],
   "source": [
    "from flask import Flask\n",
    "from flask import request\n",
    "import json\n",
    "node = Flask(__name__)\n",
    "\n",
    "nodeTransactions = []\n",
    "\n",
    "@node.route('/')\n",
    "def homePage():\n",
    "    return('welcome mr dom $$$')\n",
    "\n",
    "@node.route('/transaction',methods=['POST'])\n",
    "def transaction():\n",
    "    if request.method == 'POST':\n",
    "        newTransaction = request.get_json()\n",
    "        nodeTransactions.append(newTransaction)\n",
    "        print('new transaction')\n",
    "        print('From: {}'.format(newTransaction['from']))\n",
    "        print('To : {}'.format(newTransaction['to']))\n",
    "        print('Amount: {}'.format(newTransaction['amount']))\n",
    "        return \"Transaction submission successful\\n\"\n",
    "\n",
    "miner_address = 'superSecretElonMuskBitcoinAddress123'\n",
    "\n",
    "def proofOfWorkAlgo(lastProof):\n",
    "    incrementor = lastProof+1\n",
    "    \n",
    "    while not(incrementor % 9 == 0 and incrementor % lastProof == 0):\n",
    "        incrementor+=1\n",
    "        \n",
    "    return incrementor\n",
    "\n",
    "@node.route('/mining',methods=['GET'])\n",
    "def mine():\n",
    "    lastBlock = blockchain[len(blockchain)-1]\n",
    "    lastProof = lastBlock.data[\"proofOfWork\"]\n",
    "    #program hang until new proof is found\n",
    "    proof = proofOfWorkAlgo(lastProof)\n",
    "    \n",
    "    nodeTransactions.append({\"from\": \"network\",\"to\": \"address\",\"amount\": 1})\n",
    "    \n",
    "    newBlockData = ({\"proofOfWork\":proof, \"transactions\":list(nodeTransactions)})\n",
    "    \n",
    "    newBlockIndex = lastBlock.index+1\n",
    "    newBlockTimestamp = thisTimestamp = datetime.datetime.now()\n",
    "    lastBlockHash = lastBlock.hash\n",
    "    \n",
    "    #empty node transactions list?\n",
    "    nodeTransactions[:] = []\n",
    "    \n",
    "    #create new block\n",
    "    minedBlock = Block(\n",
    "        newBlockIndex,\n",
    "        newBlockTimestamp,\n",
    "        newBlockData,\n",
    "        lastBlockHash\n",
    "    )\n",
    "    blockchain.append(minedBlock)\n",
    "    \n",
    "    #let chain know we mined new block\n",
    "    return json.dumps({\n",
    "        \"index\": newBlockIndex,\n",
    "        \"timestamp\": str(newBlockTimestamp),\n",
    "        \"data\": newBlockData,\n",
    "        \"hash\": lastBlockHash\n",
    "    }) + '\\n'\n",
    "\n",
    "@node.route('/blocks',methods=['GET'])\n",
    "def getBlocks():\n",
    "    formattedBlockchain = blockchain\n",
    "    for block in formattedBlockchain:\n",
    "        blockIndex = str(block.index)\n",
    "        blockTimestamp = str(block.timestamp)\n",
    "        blockData = str(block.data)\n",
    "        blockHash = block.hash\n",
    "        block = ({\n",
    "            \"index\": blockIndex,\n",
    "            \"timestamp\": blockTimestamp,\n",
    "            \"data\": blockData,\n",
    "            \"hash\": blockHash\n",
    "        })\n",
    "    chainToSend = json.dumps(formattedBlockchain)\n",
    "    return chainToSend\n",
    "\n",
    "def findNewChains():\n",
    "    otherBlockChains=[]\n",
    "    for nodeURL in peerNodes:\n",
    "        newBlock = requests.get(nodeURL+'/blocks').content\n",
    "        newBlock = json.loads(newBlock)\n",
    "        otherBlockChains.append(newBlock)\n",
    "    return otherBlockChains\n",
    "\n",
    "def concensus():\n",
    "    otherChains = findNewChains()\n",
    "    longestChain = blockchain\n",
    "    for chain in otherChains:\n",
    "        if len(blockchain) < len(chain):\n",
    "            longestChain = chain\n",
    "    blockchain = longestChain\n",
    "    return blockchain\n",
    "\n",
    "node.run()"
   ]
  },
  {
   "cell_type": "code",
   "execution_count": null,
   "metadata": {
    "collapsed": true
   },
   "outputs": [],
   "source": [
    "curl \"localhost:5000/transaction\" \\\n",
    "     -H \"Content-Type: application/json\" \\\n",
    "     -d '{\"from\": \"akjflw\", \"to\":\"fjlakdj\", \"amount\": 3}'"
   ]
  },
  {
   "cell_type": "code",
   "execution_count": 299,
   "metadata": {
    "collapsed": true
   },
   "outputs": [],
   "source": [
    "curl localhost:5000/mining"
   ]
  }
 ],
 "metadata": {
  "kernelspec": {
   "display_name": "py36-test",
   "language": "python",
   "name": "py36-test"
  },
  "language_info": {
   "codemirror_mode": {
    "name": "ipython",
    "version": 3
   },
   "file_extension": ".py",
   "mimetype": "text/x-python",
   "name": "python",
   "nbconvert_exporter": "python",
   "pygments_lexer": "ipython3",
   "version": "3.6.1"
  }
 },
 "nbformat": 4,
 "nbformat_minor": 2
}
